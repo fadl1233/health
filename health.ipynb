{
 "cells": [
  {
   "cell_type": "code",
   "execution_count": 1,
   "id": "7b83e2f3-e5d6-413e-88f6-a5387e1b4614",
   "metadata": {},
   "outputs": [
    {
     "name": "stdout",
     "output_type": "stream",
     "text": [
      "Requirement already satisfied: pandas in c:\\users\\al basha\\appdata\\local\\programs\\python\\python312\\lib\\site-packages (2.2.3)\n",
      "Requirement already satisfied: openpyxl in c:\\users\\al basha\\appdata\\local\\programs\\python\\python312\\lib\\site-packages (3.1.5)\n",
      "Requirement already satisfied: numpy>=1.26.0 in c:\\users\\al basha\\appdata\\local\\programs\\python\\python312\\lib\\site-packages (from pandas) (2.1.3)\n",
      "Requirement already satisfied: python-dateutil>=2.8.2 in c:\\users\\al basha\\appdata\\local\\programs\\python\\python312\\lib\\site-packages (from pandas) (2.9.0.post0)\n",
      "Requirement already satisfied: pytz>=2020.1 in c:\\users\\al basha\\appdata\\local\\programs\\python\\python312\\lib\\site-packages (from pandas) (2024.2)\n",
      "Requirement already satisfied: tzdata>=2022.7 in c:\\users\\al basha\\appdata\\local\\programs\\python\\python312\\lib\\site-packages (from pandas) (2024.2)\n",
      "Requirement already satisfied: et-xmlfile in c:\\users\\al basha\\appdata\\local\\programs\\python\\python312\\lib\\site-packages (from openpyxl) (2.0.0)\n",
      "Requirement already satisfied: six>=1.5 in c:\\users\\al basha\\appdata\\local\\programs\\python\\python312\\lib\\site-packages (from python-dateutil>=2.8.2->pandas) (1.16.0)\n",
      "Note: you may need to restart the kernel to use updated packages.\n"
     ]
    },
    {
     "name": "stderr",
     "output_type": "stream",
     "text": [
      "\n",
      "[notice] A new release of pip is available: 24.3.1 -> 25.0\n",
      "[notice] To update, run: python.exe -m pip install --upgrade pip\n"
     ]
    }
   ],
   "source": [
    "pip install pandas openpyxl"
   ]
  },
  {
   "cell_type": "code",
   "execution_count": 2,
   "id": "8ef9313a-9556-419e-b87e-521c712c7ed7",
   "metadata": {},
   "outputs": [],
   "source": [
    "import pandas as pd"
   ]
  },
  {
   "cell_type": "code",
   "execution_count": 4,
   "id": "a3c49be8-4453-434e-bdbc-e8939daffc3c",
   "metadata": {},
   "outputs": [],
   "source": [
    "df = pd.read_csv(r\"C:\\Users\\AL BASHA\\Desktop\\max\\health\\.ipynb_checkpoints\\health.csv\")"
   ]
  },
  {
   "cell_type": "code",
   "execution_count": 13,
   "id": "94b85c08-1207-470b-8f80-a95ce71a16dc",
   "metadata": {},
   "outputs": [],
   "source": [
    "file_path = r'C:\\Users\\AL BASHA\\Desktop\\max\\health\\.ipynb_checkpoints\\health.csv'"
   ]
  },
  {
   "cell_type": "code",
   "execution_count": 14,
   "id": "54f2e384-2017-4121-8df8-613e3b1a5a10",
   "metadata": {},
   "outputs": [
    {
     "name": "stdout",
     "output_type": "stream",
     "text": [
      "تم تحميل البيانات بنجاح!\n"
     ]
    }
   ],
   "source": [
    "try:\n",
    "    df = pd.read_csv(file_path)\n",
    "    print(\"تم تحميل البيانات بنجاح!\")\n",
    "except FileNotFoundError:\n",
    "    print(f\"الملف غير موجود في المسار: {file_path}\")\n",
    "except pd.errors.EmptyDataError:\n",
    "    print(\"الملف فارغ.\")\n",
    "except pd.errors.ParserError:\n",
    "    print(\"حدث خطأ في تحليل الملف.\")"
   ]
  },
  {
   "cell_type": "code",
   "execution_count": 15,
   "id": "ec613e41-6ec4-4ba5-aa54-52cd5e20cc5b",
   "metadata": {},
   "outputs": [
    {
     "name": "stdout",
     "output_type": "stream",
     "text": [
      "                                              health      1960  1961  1962  \\\n",
      "0                  أسِرَّة المستشفيات (لكل 1000 شخص)  0.454545   NaN   NaN   \n",
      "1  تغطية العلاج المضاد للفيروسات الرجعية (% للأشخ...       NaN   NaN   NaN   \n",
      "2                 معدل انتشار السل (لكل 100 ألف شخص)       NaN   NaN   NaN   \n",
      "3  عمليات الولادة التي تتم بإشراف عاملين صحيين مه...       NaN   NaN   NaN   \n",
      "4  الأطفال المصابون بالحمى الذين يتلقون عقاقير مض...       NaN   NaN   NaN   \n",
      "\n",
      "   1963  1964  1965  1966  1967  1968  ...   2014   2015   2016   2017  2018  \\\n",
      "0   NaN   NaN   NaN   NaN   NaN   NaN  ...   0.58   0.71   0.71   0.71   NaN   \n",
      "1   NaN   NaN   NaN   NaN   NaN   NaN  ...  20.00  21.00  25.00  27.00  30.0   \n",
      "2   NaN   NaN   NaN   NaN   NaN   NaN  ...  48.00  48.00  48.00  48.00  48.0   \n",
      "3   NaN   NaN   NaN   NaN   NaN   NaN  ...    NaN    NaN    NaN    NaN   NaN   \n",
      "4   NaN   NaN   NaN   NaN   NaN   NaN  ...    NaN    NaN    NaN    NaN   NaN   \n",
      "\n",
      "   2019  2020  2021  2022  2023  \n",
      "0   NaN   NaN   NaN   NaN   NaN  \n",
      "1  32.0  34.0  35.0  39.0   NaN  \n",
      "2  48.0  48.0  48.0  48.0  48.0  \n",
      "3   NaN   NaN   NaN   NaN   NaN  \n",
      "4   NaN   NaN   NaN   NaN   NaN  \n",
      "\n",
      "[5 rows x 65 columns]\n",
      "Index(['health', '1960', '1961', '1962', '1963', '1964', '1965', '1966',\n",
      "       '1967', '1968', '1969', '1970', '1971', '1972', '1973', '1974', '1975',\n",
      "       '1976', '1977', '1978', '1979', '1980', '1981', '1982', '1983', '1984',\n",
      "       '1985', '1986', '1987', '1988', '1989', '1990', '1991', '1992', '1993',\n",
      "       '1994', '1995', '1996', '1997', '1998', '1999', '2000', '2001', '2002',\n",
      "       '2003', '2004', '2005', '2006', '2007', '2008', '2009', '2010', '2011',\n",
      "       '2012', '2013', '2014', '2015', '2016', '2017', '2018', '2019', '2020',\n",
      "       '2021', '2022', '2023'],\n",
      "      dtype='object')\n",
      "<class 'pandas.core.frame.DataFrame'>\n",
      "RangeIndex: 12 entries, 0 to 11\n",
      "Data columns (total 65 columns):\n",
      " #   Column  Non-Null Count  Dtype  \n",
      "---  ------  --------------  -----  \n",
      " 0   health  12 non-null     object \n",
      " 1   1960    3 non-null      float64\n",
      " 2   1961    1 non-null      float64\n",
      " 3   1962    1 non-null      float64\n",
      " 4   1963    1 non-null      float64\n",
      " 5   1964    1 non-null      float64\n",
      " 6   1965    2 non-null      float64\n",
      " 7   1966    1 non-null      float64\n",
      " 8   1967    1 non-null      float64\n",
      " 9   1968    1 non-null      float64\n",
      " 10  1969    1 non-null      float64\n",
      " 11  1970    3 non-null      float64\n",
      " 12  1971    1 non-null      float64\n",
      " 13  1972    1 non-null      float64\n",
      " 14  1973    1 non-null      float64\n",
      " 15  1974    1 non-null      float64\n",
      " 16  1975    2 non-null      float64\n",
      " 17  1976    1 non-null      float64\n",
      " 18  1977    1 non-null      float64\n",
      " 19  1978    1 non-null      float64\n",
      " 20  1979    1 non-null      float64\n",
      " 21  1980    3 non-null      float64\n",
      " 22  1981    4 non-null      float64\n",
      " 23  1982    3 non-null      float64\n",
      " 24  1983    3 non-null      float64\n",
      " 25  1984    3 non-null      float64\n",
      " 26  1985    4 non-null      float64\n",
      " 27  1986    3 non-null      float64\n",
      " 28  1987    3 non-null      float64\n",
      " 29  1988    3 non-null      float64\n",
      " 30  1989    3 non-null      float64\n",
      " 31  1990    7 non-null      float64\n",
      " 32  1991    5 non-null      float64\n",
      " 33  1992    6 non-null      float64\n",
      " 34  1993    5 non-null      float64\n",
      " 35  1994    5 non-null      float64\n",
      " 36  1995    6 non-null      float64\n",
      " 37  1996    7 non-null      float64\n",
      " 38  1997    8 non-null      float64\n",
      " 39  1998    6 non-null      float64\n",
      " 40  1999    5 non-null      float64\n",
      " 41  2000    8 non-null      float64\n",
      " 42  2001    8 non-null      float64\n",
      " 43  2002    8 non-null      float64\n",
      " 44  2003    9 non-null      float64\n",
      " 45  2004    10 non-null     float64\n",
      " 46  2005    8 non-null      float64\n",
      " 47  2006    9 non-null      float64\n",
      " 48  2007    8 non-null      float64\n",
      " 49  2008    9 non-null      float64\n",
      " 50  2009    9 non-null      float64\n",
      " 51  2010    9 non-null      float64\n",
      " 52  2011    8 non-null      float64\n",
      " 53  2012    9 non-null      float64\n",
      " 54  2013    11 non-null     float64\n",
      " 55  2014    10 non-null     float64\n",
      " 56  2015    9 non-null      float64\n",
      " 57  2016    9 non-null      float64\n",
      " 58  2017    9 non-null      float64\n",
      " 59  2018    8 non-null      float64\n",
      " 60  2019    7 non-null      float64\n",
      " 61  2020    7 non-null      float64\n",
      " 62  2021    7 non-null      float64\n",
      " 63  2022    7 non-null      float64\n",
      " 64  2023    3 non-null      float64\n",
      "dtypes: float64(64), object(1)\n",
      "memory usage: 6.2+ KB\n",
      "None\n"
     ]
    }
   ],
   "source": [
    "print(df.head())  # يعرض أول 5 صفوف من البيانات\n",
    "print(df.columns)  # يعرض أسماء الأعمدة\n",
    "print(df.info())  # يعرض معلومات حول البيانات"
   ]
  },
  {
   "cell_type": "code",
   "execution_count": 18,
   "id": "96383786-25a7-4cb1-a61b-5cdb5507d96c",
   "metadata": {},
   "outputs": [
    {
     "name": "stdout",
     "output_type": "stream",
     "text": [
      "Index(['health', '1960', '1961', '1962', '1963', '1964', '1965', '1966',\n",
      "       '1967', '1968', '1969', '1970', '1971', '1972', '1973', '1974', '1975',\n",
      "       '1976', '1977', '1978', '1979', '1980', '1981', '1982', '1983', '1984',\n",
      "       '1985', '1986', '1987', '1988', '1989', '1990', '1991', '1992', '1993',\n",
      "       '1994', '1995', '1996', '1997', '1998', '1999', '2000', '2001', '2002',\n",
      "       '2003', '2004', '2005', '2006', '2007', '2008', '2009', '2010', '2011',\n",
      "       '2012', '2013', '2014', '2015', '2016', '2017', '2018', '2019', '2020',\n",
      "       '2021', '2022', '2023'],\n",
      "      dtype='object')\n"
     ]
    }
   ],
   "source": [
    "print(df.columns)"
   ]
  },
  {
   "cell_type": "code",
   "execution_count": 20,
   "id": "70cb7960-255d-4154-a0e2-106bdb75ef16",
   "metadata": {},
   "outputs": [],
   "source": [
    "# إعادة تسمية الأعمدة إذا لزم الأمر\n",
    "df.rename(columns={'السنة': 'السنة', 'أسِرَّة المستشفيات (لكل 1000 شخص)': 'أسِرَّة المستشفيات'}, inplace=True)"
   ]
  },
  {
   "cell_type": "code",
   "execution_count": 8,
   "id": "88fe82e3-43f1-47e4-8233-b3b97a485c60",
   "metadata": {},
   "outputs": [
    {
     "name": "stdout",
     "output_type": "stream",
     "text": [
      "                                              health      1960  1961  1962  \\\n",
      "0                  أسِرَّة المستشفيات (لكل 1000 شخص)  0.454545   NaN   NaN   \n",
      "1  تغطية العلاج المضاد للفيروسات الرجعية (% للأشخ...       NaN   NaN   NaN   \n",
      "2                 معدل انتشار السل (لكل 100 ألف شخص)       NaN   NaN   NaN   \n",
      "3  عمليات الولادة التي تتم بإشراف عاملين صحيين مه...       NaN   NaN   NaN   \n",
      "4  الأطفال المصابون بالحمى الذين يتلقون عقاقير مض...       NaN   NaN   NaN   \n",
      "\n",
      "   1963  1964  1965  1966  1967  1968  ...   2014   2015   2016   2017  2018  \\\n",
      "0   NaN   NaN   NaN   NaN   NaN   NaN  ...   0.58   0.71   0.71   0.71   NaN   \n",
      "1   NaN   NaN   NaN   NaN   NaN   NaN  ...  20.00  21.00  25.00  27.00  30.0   \n",
      "2   NaN   NaN   NaN   NaN   NaN   NaN  ...  48.00  48.00  48.00  48.00  48.0   \n",
      "3   NaN   NaN   NaN   NaN   NaN   NaN  ...    NaN    NaN    NaN    NaN   NaN   \n",
      "4   NaN   NaN   NaN   NaN   NaN   NaN  ...    NaN    NaN    NaN    NaN   NaN   \n",
      "\n",
      "   2019  2020  2021  2022  2023  \n",
      "0   NaN   NaN   NaN   NaN   NaN  \n",
      "1  32.0  34.0  35.0  39.0   NaN  \n",
      "2  48.0  48.0  48.0  48.0  48.0  \n",
      "3   NaN   NaN   NaN   NaN   NaN  \n",
      "4   NaN   NaN   NaN   NaN   NaN  \n",
      "\n",
      "[5 rows x 65 columns]\n"
     ]
    }
   ],
   "source": [
    "import pandas as pd\n",
    "\n",
    "# تحميل البيانات من ملف CSV\n",
    "df = pd.read_csv(r'C:\\Users\\AL BASHA\\Desktop\\max\\health\\.ipynb_checkpoints\\health.csv')\n",
    "\n",
    "# عرض البيانات\n",
    "print(df.head())  # يعرض أول 5 صفوف من البيانات"
   ]
  },
  {
   "cell_type": "code",
   "execution_count": 9,
   "id": "f8a929a1-1dcc-4215-9c50-7e5d89af1773",
   "metadata": {},
   "outputs": [
    {
     "name": "stdout",
     "output_type": "stream",
     "text": [
      "Requirement already satisfied: matplotlib in c:\\users\\al basha\\appdata\\local\\programs\\python\\python312\\lib\\site-packages (3.9.2)\n",
      "Requirement already satisfied: seaborn in c:\\users\\al basha\\appdata\\local\\programs\\python\\python312\\lib\\site-packages (0.13.2)\n",
      "Requirement already satisfied: contourpy>=1.0.1 in c:\\users\\al basha\\appdata\\local\\programs\\python\\python312\\lib\\site-packages (from matplotlib) (1.3.0)\n",
      "Requirement already satisfied: cycler>=0.10 in c:\\users\\al basha\\appdata\\local\\programs\\python\\python312\\lib\\site-packages (from matplotlib) (0.12.1)\n",
      "Requirement already satisfied: fonttools>=4.22.0 in c:\\users\\al basha\\appdata\\local\\programs\\python\\python312\\lib\\site-packages (from matplotlib) (4.54.1)\n",
      "Requirement already satisfied: kiwisolver>=1.3.1 in c:\\users\\al basha\\appdata\\local\\programs\\python\\python312\\lib\\site-packages (from matplotlib) (1.4.7)\n",
      "Requirement already satisfied: numpy>=1.23 in c:\\users\\al basha\\appdata\\local\\programs\\python\\python312\\lib\\site-packages (from matplotlib) (2.1.3)\n",
      "Requirement already satisfied: packaging>=20.0 in c:\\users\\al basha\\appdata\\local\\programs\\python\\python312\\lib\\site-packages (from matplotlib) (24.1)\n",
      "Requirement already satisfied: pillow>=8 in c:\\users\\al basha\\appdata\\local\\programs\\python\\python312\\lib\\site-packages (from matplotlib) (11.0.0)\n",
      "Requirement already satisfied: pyparsing>=2.3.1 in c:\\users\\al basha\\appdata\\local\\programs\\python\\python312\\lib\\site-packages (from matplotlib) (3.2.0)\n",
      "Requirement already satisfied: python-dateutil>=2.7 in c:\\users\\al basha\\appdata\\local\\programs\\python\\python312\\lib\\site-packages (from matplotlib) (2.9.0.post0)\n",
      "Requirement already satisfied: pandas>=1.2 in c:\\users\\al basha\\appdata\\local\\programs\\python\\python312\\lib\\site-packages (from seaborn) (2.2.3)\n",
      "Requirement already satisfied: pytz>=2020.1 in c:\\users\\al basha\\appdata\\local\\programs\\python\\python312\\lib\\site-packages (from pandas>=1.2->seaborn) (2024.2)\n",
      "Requirement already satisfied: tzdata>=2022.7 in c:\\users\\al basha\\appdata\\local\\programs\\python\\python312\\lib\\site-packages (from pandas>=1.2->seaborn) (2024.2)\n",
      "Requirement already satisfied: six>=1.5 in c:\\users\\al basha\\appdata\\local\\programs\\python\\python312\\lib\\site-packages (from python-dateutil>=2.7->matplotlib) (1.16.0)\n",
      "Note: you may need to restart the kernel to use updated packages.\n"
     ]
    },
    {
     "name": "stderr",
     "output_type": "stream",
     "text": [
      "\n",
      "[notice] A new release of pip is available: 24.3.1 -> 25.0\n",
      "[notice] To update, run: python.exe -m pip install --upgrade pip\n"
     ]
    }
   ],
   "source": [
    "pip install matplotlib seaborn"
   ]
  },
  {
   "cell_type": "code",
   "execution_count": 10,
   "id": "091caf86-0561-4157-ba7d-dd050b603c64",
   "metadata": {},
   "outputs": [],
   "source": [
    "import pandas as pd\n",
    "import matplotlib.pyplot as plt\n",
    "import seaborn as sns"
   ]
  },
  {
   "cell_type": "code",
   "execution_count": 24,
   "id": "3a6c596b-2c05-4919-b049-c567d2a2b0a7",
   "metadata": {},
   "outputs": [
    {
     "name": "stdout",
     "output_type": "stream",
     "text": [
      "Index(['health', '1960', '1961', '1962', '1963', '1964', '1965', '1966',\n",
      "       '1967', '1968', '1969', '1970', '1971', '1972', '1973', '1974', '1975',\n",
      "       '1976', '1977', '1978', '1979', '1980', '1981', '1982', '1983', '1984',\n",
      "       '1985', '1986', '1987', '1988', '1989', '1990', '1991', '1992', '1993',\n",
      "       '1994', '1995', '1996', '1997', '1998', '1999', '2000', '2001', '2002',\n",
      "       '2003', '2004', '2005', '2006', '2007', '2008', '2009', '2010', '2011',\n",
      "       '2012', '2013', '2014', '2015', '2016', '2017', '2018', '2019', '2020',\n",
      "       '2021', '2022', '2023'],\n",
      "      dtype='object')\n"
     ]
    }
   ],
   "source": [
    "import pandas as pd\n",
    "import matplotlib.pyplot as plt\n",
    "import seaborn as sns\n",
    "\n",
    "# افترض أن لديك ملف CSV محمل في DataFrame\n",
    "file_path = r'C:\\Users\\AL BASHA\\Desktop\\max\\health\\.ipynb_checkpoints\\health.csv'\n",
    "df = pd.read_csv(file_path)\n",
    "\n",
    "# عرض أسماء الأعمدة\n",
    "print(df.columns)"
   ]
  },
  {
   "cell_type": "code",
   "execution_count": 27,
   "id": "c586c68d-cdab-4416-b735-3e948bf3c28b",
   "metadata": {},
   "outputs": [],
   "source": [
    "# إعادة تسمية الأعمدة إذا لزم الأمر\n",
    "df.rename(columns={'السنة': 'السنة', 'أسِرَّة المستشفيات (لكل 1000 شخص)': 'أسِرَّة المستشفيات'}, inplace=True)"
   ]
  },
  {
   "cell_type": "code",
   "execution_count": null,
   "id": "c6bc4658-ee2e-4b28-9456-49f830790824",
   "metadata": {},
   "outputs": [],
   "source": []
  },
  {
   "cell_type": "code",
   "execution_count": 29,
   "id": "2a0c6bf7-a367-4b58-a646-87fcb85d83b2",
   "metadata": {},
   "outputs": [],
   "source": [
    "# افترض أن الأعمدة الفعلية تسمى شيئًا آخر، مثل 'Year' و 'Hospital_Beds'\n",
    "df.rename(columns={'Year': 'السنة', 'Hospital_Beds': 'أسِرَّة المستشفيات'}, inplace=True)"
   ]
  }
 ],
 "metadata": {
  "kernelspec": {
   "display_name": "Python 3 (ipykernel)",
   "language": "python",
   "name": "python3"
  },
  "language_info": {
   "codemirror_mode": {
    "name": "ipython",
    "version": 3
   },
   "file_extension": ".py",
   "mimetype": "text/x-python",
   "name": "python",
   "nbconvert_exporter": "python",
   "pygments_lexer": "ipython3",
   "version": "3.12.5"
  }
 },
 "nbformat": 4,
 "nbformat_minor": 5
}
